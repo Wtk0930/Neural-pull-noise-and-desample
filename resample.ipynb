{
 "cells": [
  {
   "cell_type": "code",
   "execution_count": 1,
   "metadata": {},
   "outputs": [
    {
     "name": "stdout",
     "output_type": "stream",
     "text": [
      "Jupyter environment detected. Enabling Open3D WebVisualizer.\n",
      "[Open3D INFO] WebRTC GUI backend enabled.\n",
      "[Open3D INFO] WebRTCWindowSystem: HTTP handshake server disabled.\n"
     ]
    }
   ],
   "source": [
    "import open3d as o3d\n",
    "import numpy as np"
   ]
  },
  {
   "cell_type": "code",
   "execution_count": 2,
   "metadata": {},
   "outputs": [],
   "source": [
    "# load ply and downsample to 1/10 of the original points\n",
    "\n",
    "pcd = o3d.io.read_point_cloud(\"data/gargoyle.ply\")\n",
    "o3d.visualization.draw_geometries([pcd])"
   ]
  },
  {
   "cell_type": "code",
   "execution_count": 5,
   "metadata": {},
   "outputs": [
    {
     "name": "stdout",
     "output_type": "stream",
     "text": [
      "<class 'open3d.cpu.pybind.geometry.PointCloud'>\n",
      "points shape (95435, 3)\n"
     ]
    }
   ],
   "source": [
    "# downsample\n",
    "print(type(pcd))\n",
    "points = np.asarray(pcd.points)\n",
    "print(\"points shape\",points.shape)\n",
    "\n",
    "pcd_down = o3d.geometry.PointCloud()\n",
    "pcd_down.points = o3d.utility.Vector3dVector(points[::10])\n",
    "\n",
    "o3d.visualization.draw_geometries([pcd_down])\n",
    "o3d.io.write_point_cloud(\"data/gargoyle_downsampled.ply\", pcd_down)\n",
    "\n",
    "\n",
    "def downsample(point_cloud: o3d.geometry.PointCloud, factor: int) -> o3d.geometry.PointCloud:\n",
    "    points = np.asarray(point_cloud.points)\n",
    "    pcd_down = o3d.geometry.PointCloud()\n",
    "    pcd_down.points = o3d.utility.Vector3dVector(points[::factor])\n",
    "    return pcd_down"
   ]
  },
  {
   "cell_type": "code",
   "execution_count": null,
   "metadata": {},
   "outputs": [],
   "source": [
    "# downsample and add noise\n",
    "def add_noise_to_point_cloud(point_cloud: o3d.geometry.PointCloud, noise_level: float) -> o3d.geometry.PointCloud:\n",
    "    \"\"\"\n",
    "    Add noise to a point cloud.\n",
    "\n",
    "    Parameters:\n",
    "    - point_cloud: open3d.geometry.PointCloud, The point cloud object.\n",
    "    - noise_level: float, The noise level, representing the standard deviation of the Gaussian noise.\n",
    "\n",
    "    Returns:\n",
    "    - noisy_point_cloud: open3d.geometry.PointCloud, The point cloud object with added noise.\n",
    "    \"\"\"\n",
    "    # Retrieve the points of the point cloud\n",
    "    points = np.asarray(point_cloud.points)\n",
    "\n",
    "    # Generate noise\n",
    "    noise = np.random.normal(0, noise_level, points.shape)\n",
    "\n",
    "    # Add noise to the point cloud\n",
    "    noisy_points = points + noise\n",
    "\n",
    "    # Create a new point cloud object and assign the noisy points\n",
    "    noisy_point_cloud = o3d.geometry.PointCloud()\n",
    "    noisy_point_cloud.points = o3d.utility.Vector3dVector(noisy_points)\n",
    "\n",
    "    return noisy_point_cloud\n"
   ]
  }
 ],
 "metadata": {
  "kernelspec": {
   "display_name": "lcm",
   "language": "python",
   "name": "python3"
  },
  "language_info": {
   "codemirror_mode": {
    "name": "ipython",
    "version": 3
   },
   "file_extension": ".py",
   "mimetype": "text/x-python",
   "name": "python",
   "nbconvert_exporter": "python",
   "pygments_lexer": "ipython3",
   "version": "3.8.19"
  },
  "orig_nbformat": 4,
  "vscode": {
   "interpreter": {
    "hash": "88f487086f3d7815ef264bfcfe671b5a036f227646b20693be88f026dd64291b"
   }
  }
 },
 "nbformat": 4,
 "nbformat_minor": 2
}
